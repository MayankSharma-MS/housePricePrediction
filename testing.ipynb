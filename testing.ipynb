{
 "cells": [
  {
   "cell_type": "code",
   "execution_count": 1,
   "metadata": {},
   "outputs": [],
   "source": [
    "import numpy as np\n",
    "import pandas as pd"
   ]
  },
  {
   "cell_type": "code",
   "execution_count": 2,
   "metadata": {},
   "outputs": [],
   "source": [
    "train_file_path_numerical = 'data/numerical_data_train.csv'\n",
    "train_file_path_categorical = 'data/categorical_dataset_housing_training.csv'\n",
    "test_file_path_numerical = 'data/numerical_data_test.csv'\n",
    "test_file_path_categorical = 'data/categorical_dataset_housing_testing.csv'"
   ]
  },
  {
   "cell_type": "code",
   "execution_count": 3,
   "metadata": {},
   "outputs": [],
   "source": [
    "dataset_numerical_train = pd.read_csv(train_file_path_numerical)\n",
    "dataset_categorical_train = pd.read_csv(train_file_path_categorical)\n",
    "dataset_numerical_test = pd.read_csv(test_file_path_numerical)\n",
    "dataset_categorical_test = pd.read_csv(test_file_path_categorical)"
   ]
  },
  {
   "cell_type": "code",
   "execution_count": 4,
   "metadata": {},
   "outputs": [
    {
     "name": "stdout",
     "output_type": "stream",
     "text": [
      "(1455, 9)\n",
      "(1460, 29)\n",
      "(1459, 8)\n",
      "(1459, 28)\n"
     ]
    }
   ],
   "source": [
    "print(dataset_numerical_train.shape)\n",
    "print(dataset_categorical_train.shape)\n",
    "print(dataset_numerical_test.shape)\n",
    "print(dataset_categorical_test.shape)"
   ]
  },
  {
   "cell_type": "code",
   "execution_count": 5,
   "metadata": {},
   "outputs": [
    {
     "name": "stdout",
     "output_type": "stream",
     "text": [
      "Index([u'SalePrice', u'OverallQual', u'GrLivArea', u'GarageArea',\n",
      "       u'TotalBsmtSF', u'FullBath', u'Fireplaces', u'Age', u'Id'],\n",
      "      dtype='object')\n",
      "Index([u'Neighborhood', u'MSSubClass', u'Exterior1st', u'Exterior2nd',\n",
      "       u'SaleType', u'MSZoning', u'SalePrice', u'Id', u'ExterQual_Fa',\n",
      "       u'ExterQual_Gd', u'ExterQual_TA', u'KitchenQual_Fa', u'KitchenQual_Gd',\n",
      "       u'KitchenQual_TA', u'Foundation_CBlock', u'Foundation_PConc',\n",
      "       u'Foundation_Slab', u'Foundation_Stone', u'Foundation_Wood',\n",
      "       u'HeatingQC_Fa', u'HeatingQC_Gd', u'HeatingQC_Po', u'HeatingQC_TA',\n",
      "       u'SaleCondition_AdjLand', u'SaleCondition_Alloca',\n",
      "       u'SaleCondition_Family', u'SaleCondition_Normal',\n",
      "       u'SaleCondition_Partial', u'KitchenQual_MISSING'],\n",
      "      dtype='object')\n",
      "Index([u'OverallQual', u'GrLivArea', u'GarageArea', u'TotalBsmtSF',\n",
      "       u'FullBath', u'Fireplaces', u'Age', u'Id'],\n",
      "      dtype='object')\n",
      "Index([u'Neighborhood', u'MSSubClass', u'Exterior1st', u'Exterior2nd',\n",
      "       u'SaleType', u'MSZoning', u'Id', u'ExterQual_Fa', u'ExterQual_Gd',\n",
      "       u'ExterQual_TA', u'KitchenQual_Fa', u'KitchenQual_Gd',\n",
      "       u'KitchenQual_MISSING', u'KitchenQual_TA', u'Foundation_CBlock',\n",
      "       u'Foundation_PConc', u'Foundation_Slab', u'Foundation_Stone',\n",
      "       u'Foundation_Wood', u'HeatingQC_Fa', u'HeatingQC_Gd', u'HeatingQC_Po',\n",
      "       u'HeatingQC_TA', u'SaleCondition_AdjLand', u'SaleCondition_Alloca',\n",
      "       u'SaleCondition_Family', u'SaleCondition_Normal',\n",
      "       u'SaleCondition_Partial'],\n",
      "      dtype='object')\n"
     ]
    }
   ],
   "source": [
    "print(dataset_numerical_train.columns)\n",
    "print(dataset_categorical_train.columns)\n",
    "print(dataset_numerical_test.columns)\n",
    "print(dataset_categorical_test.columns)"
   ]
  },
  {
   "cell_type": "code",
   "execution_count": 6,
   "metadata": {},
   "outputs": [],
   "source": [
    "dataset_train = pd.merge(dataset_numerical_train,dataset_categorical_train,on = 'Id')\n",
    "dataset_test = pd.merge(dataset_numerical_test,dataset_categorical_test,on = 'Id')"
   ]
  },
  {
   "cell_type": "code",
   "execution_count": 7,
   "metadata": {},
   "outputs": [
    {
     "name": "stdout",
     "output_type": "stream",
     "text": [
      "Index([u'SalePrice_x', u'OverallQual', u'GrLivArea', u'GarageArea',\n",
      "       u'TotalBsmtSF', u'FullBath', u'Fireplaces', u'Age', u'Id',\n",
      "       u'Neighborhood', u'MSSubClass', u'Exterior1st', u'Exterior2nd',\n",
      "       u'SaleType', u'MSZoning', u'SalePrice_y', u'ExterQual_Fa',\n",
      "       u'ExterQual_Gd', u'ExterQual_TA', u'KitchenQual_Fa', u'KitchenQual_Gd',\n",
      "       u'KitchenQual_TA', u'Foundation_CBlock', u'Foundation_PConc',\n",
      "       u'Foundation_Slab', u'Foundation_Stone', u'Foundation_Wood',\n",
      "       u'HeatingQC_Fa', u'HeatingQC_Gd', u'HeatingQC_Po', u'HeatingQC_TA',\n",
      "       u'SaleCondition_AdjLand', u'SaleCondition_Alloca',\n",
      "       u'SaleCondition_Family', u'SaleCondition_Normal',\n",
      "       u'SaleCondition_Partial', u'KitchenQual_MISSING'],\n",
      "      dtype='object')\n",
      "Index([u'OverallQual', u'GrLivArea', u'GarageArea', u'TotalBsmtSF',\n",
      "       u'FullBath', u'Fireplaces', u'Age', u'Id', u'Neighborhood',\n",
      "       u'MSSubClass', u'Exterior1st', u'Exterior2nd', u'SaleType', u'MSZoning',\n",
      "       u'ExterQual_Fa', u'ExterQual_Gd', u'ExterQual_TA', u'KitchenQual_Fa',\n",
      "       u'KitchenQual_Gd', u'KitchenQual_MISSING', u'KitchenQual_TA',\n",
      "       u'Foundation_CBlock', u'Foundation_PConc', u'Foundation_Slab',\n",
      "       u'Foundation_Stone', u'Foundation_Wood', u'HeatingQC_Fa',\n",
      "       u'HeatingQC_Gd', u'HeatingQC_Po', u'HeatingQC_TA',\n",
      "       u'SaleCondition_AdjLand', u'SaleCondition_Alloca',\n",
      "       u'SaleCondition_Family', u'SaleCondition_Normal',\n",
      "       u'SaleCondition_Partial'],\n",
      "      dtype='object')\n"
     ]
    }
   ],
   "source": [
    "print(dataset_train.columns)\n",
    "print(dataset_test.columns)"
   ]
  },
  {
   "cell_type": "code",
   "execution_count": 8,
   "metadata": {},
   "outputs": [],
   "source": [
    "dataset_train = dataset_train.drop(['SalePrice_x'], axis = 1)"
   ]
  },
  {
   "cell_type": "code",
   "execution_count": 9,
   "metadata": {},
   "outputs": [
    {
     "name": "stdout",
     "output_type": "stream",
     "text": [
      "(1455, 36)\n",
      "(1459, 35)\n"
     ]
    }
   ],
   "source": [
    "print(dataset_train.shape)\n",
    "print(dataset_test.shape)"
   ]
  },
  {
   "cell_type": "code",
   "execution_count": 10,
   "metadata": {},
   "outputs": [],
   "source": [
    "total = dataset_test.isnull().sum().sort_values(ascending=False)\n",
    "percent = (dataset_test.isnull().sum()/dataset_test.isnull().count()).sort_values(ascending=False)\n",
    "missing_data = pd.concat([total, percent], axis=1, keys=['Total', 'Percent'])"
   ]
  },
  {
   "cell_type": "code",
   "execution_count": 11,
   "metadata": {},
   "outputs": [
    {
     "data": {
      "text/html": [
       "<div>\n",
       "<style scoped>\n",
       "    .dataframe tbody tr th:only-of-type {\n",
       "        vertical-align: middle;\n",
       "    }\n",
       "\n",
       "    .dataframe tbody tr th {\n",
       "        vertical-align: top;\n",
       "    }\n",
       "\n",
       "    .dataframe thead th {\n",
       "        text-align: right;\n",
       "    }\n",
       "</style>\n",
       "<table border=\"1\" class=\"dataframe\">\n",
       "  <thead>\n",
       "    <tr style=\"text-align: right;\">\n",
       "      <th></th>\n",
       "      <th>Total</th>\n",
       "      <th>Percent</th>\n",
       "    </tr>\n",
       "  </thead>\n",
       "  <tbody>\n",
       "    <tr>\n",
       "      <th>SaleCondition_Partial</th>\n",
       "      <td>0</td>\n",
       "      <td>0.0</td>\n",
       "    </tr>\n",
       "    <tr>\n",
       "      <th>Neighborhood</th>\n",
       "      <td>0</td>\n",
       "      <td>0.0</td>\n",
       "    </tr>\n",
       "    <tr>\n",
       "      <th>ExterQual_Fa</th>\n",
       "      <td>0</td>\n",
       "      <td>0.0</td>\n",
       "    </tr>\n",
       "    <tr>\n",
       "      <th>MSZoning</th>\n",
       "      <td>0</td>\n",
       "      <td>0.0</td>\n",
       "    </tr>\n",
       "    <tr>\n",
       "      <th>SaleType</th>\n",
       "      <td>0</td>\n",
       "      <td>0.0</td>\n",
       "    </tr>\n",
       "    <tr>\n",
       "      <th>Exterior2nd</th>\n",
       "      <td>0</td>\n",
       "      <td>0.0</td>\n",
       "    </tr>\n",
       "    <tr>\n",
       "      <th>Exterior1st</th>\n",
       "      <td>0</td>\n",
       "      <td>0.0</td>\n",
       "    </tr>\n",
       "    <tr>\n",
       "      <th>MSSubClass</th>\n",
       "      <td>0</td>\n",
       "      <td>0.0</td>\n",
       "    </tr>\n",
       "    <tr>\n",
       "      <th>Id</th>\n",
       "      <td>0</td>\n",
       "      <td>0.0</td>\n",
       "    </tr>\n",
       "    <tr>\n",
       "      <th>ExterQual_TA</th>\n",
       "      <td>0</td>\n",
       "      <td>0.0</td>\n",
       "    </tr>\n",
       "    <tr>\n",
       "      <th>Age</th>\n",
       "      <td>0</td>\n",
       "      <td>0.0</td>\n",
       "    </tr>\n",
       "    <tr>\n",
       "      <th>Fireplaces</th>\n",
       "      <td>0</td>\n",
       "      <td>0.0</td>\n",
       "    </tr>\n",
       "    <tr>\n",
       "      <th>FullBath</th>\n",
       "      <td>0</td>\n",
       "      <td>0.0</td>\n",
       "    </tr>\n",
       "    <tr>\n",
       "      <th>TotalBsmtSF</th>\n",
       "      <td>0</td>\n",
       "      <td>0.0</td>\n",
       "    </tr>\n",
       "    <tr>\n",
       "      <th>GarageArea</th>\n",
       "      <td>0</td>\n",
       "      <td>0.0</td>\n",
       "    </tr>\n",
       "    <tr>\n",
       "      <th>GrLivArea</th>\n",
       "      <td>0</td>\n",
       "      <td>0.0</td>\n",
       "    </tr>\n",
       "    <tr>\n",
       "      <th>ExterQual_Gd</th>\n",
       "      <td>0</td>\n",
       "      <td>0.0</td>\n",
       "    </tr>\n",
       "    <tr>\n",
       "      <th>KitchenQual_Fa</th>\n",
       "      <td>0</td>\n",
       "      <td>0.0</td>\n",
       "    </tr>\n",
       "    <tr>\n",
       "      <th>SaleCondition_Normal</th>\n",
       "      <td>0</td>\n",
       "      <td>0.0</td>\n",
       "    </tr>\n",
       "    <tr>\n",
       "      <th>HeatingQC_Fa</th>\n",
       "      <td>0</td>\n",
       "      <td>0.0</td>\n",
       "    </tr>\n",
       "    <tr>\n",
       "      <th>SaleCondition_Family</th>\n",
       "      <td>0</td>\n",
       "      <td>0.0</td>\n",
       "    </tr>\n",
       "    <tr>\n",
       "      <th>SaleCondition_Alloca</th>\n",
       "      <td>0</td>\n",
       "      <td>0.0</td>\n",
       "    </tr>\n",
       "    <tr>\n",
       "      <th>SaleCondition_AdjLand</th>\n",
       "      <td>0</td>\n",
       "      <td>0.0</td>\n",
       "    </tr>\n",
       "    <tr>\n",
       "      <th>HeatingQC_TA</th>\n",
       "      <td>0</td>\n",
       "      <td>0.0</td>\n",
       "    </tr>\n",
       "    <tr>\n",
       "      <th>HeatingQC_Po</th>\n",
       "      <td>0</td>\n",
       "      <td>0.0</td>\n",
       "    </tr>\n",
       "    <tr>\n",
       "      <th>HeatingQC_Gd</th>\n",
       "      <td>0</td>\n",
       "      <td>0.0</td>\n",
       "    </tr>\n",
       "    <tr>\n",
       "      <th>Foundation_Wood</th>\n",
       "      <td>0</td>\n",
       "      <td>0.0</td>\n",
       "    </tr>\n",
       "    <tr>\n",
       "      <th>KitchenQual_Gd</th>\n",
       "      <td>0</td>\n",
       "      <td>0.0</td>\n",
       "    </tr>\n",
       "    <tr>\n",
       "      <th>Foundation_Stone</th>\n",
       "      <td>0</td>\n",
       "      <td>0.0</td>\n",
       "    </tr>\n",
       "    <tr>\n",
       "      <th>Foundation_Slab</th>\n",
       "      <td>0</td>\n",
       "      <td>0.0</td>\n",
       "    </tr>\n",
       "    <tr>\n",
       "      <th>Foundation_PConc</th>\n",
       "      <td>0</td>\n",
       "      <td>0.0</td>\n",
       "    </tr>\n",
       "    <tr>\n",
       "      <th>Foundation_CBlock</th>\n",
       "      <td>0</td>\n",
       "      <td>0.0</td>\n",
       "    </tr>\n",
       "    <tr>\n",
       "      <th>KitchenQual_TA</th>\n",
       "      <td>0</td>\n",
       "      <td>0.0</td>\n",
       "    </tr>\n",
       "    <tr>\n",
       "      <th>KitchenQual_MISSING</th>\n",
       "      <td>0</td>\n",
       "      <td>0.0</td>\n",
       "    </tr>\n",
       "    <tr>\n",
       "      <th>OverallQual</th>\n",
       "      <td>0</td>\n",
       "      <td>0.0</td>\n",
       "    </tr>\n",
       "  </tbody>\n",
       "</table>\n",
       "</div>"
      ],
      "text/plain": [
       "                       Total  Percent\n",
       "SaleCondition_Partial      0      0.0\n",
       "Neighborhood               0      0.0\n",
       "ExterQual_Fa               0      0.0\n",
       "MSZoning                   0      0.0\n",
       "SaleType                   0      0.0\n",
       "Exterior2nd                0      0.0\n",
       "Exterior1st                0      0.0\n",
       "MSSubClass                 0      0.0\n",
       "Id                         0      0.0\n",
       "ExterQual_TA               0      0.0\n",
       "Age                        0      0.0\n",
       "Fireplaces                 0      0.0\n",
       "FullBath                   0      0.0\n",
       "TotalBsmtSF                0      0.0\n",
       "GarageArea                 0      0.0\n",
       "GrLivArea                  0      0.0\n",
       "ExterQual_Gd               0      0.0\n",
       "KitchenQual_Fa             0      0.0\n",
       "SaleCondition_Normal       0      0.0\n",
       "HeatingQC_Fa               0      0.0\n",
       "SaleCondition_Family       0      0.0\n",
       "SaleCondition_Alloca       0      0.0\n",
       "SaleCondition_AdjLand      0      0.0\n",
       "HeatingQC_TA               0      0.0\n",
       "HeatingQC_Po               0      0.0\n",
       "HeatingQC_Gd               0      0.0\n",
       "Foundation_Wood            0      0.0\n",
       "KitchenQual_Gd             0      0.0\n",
       "Foundation_Stone           0      0.0\n",
       "Foundation_Slab            0      0.0\n",
       "Foundation_PConc           0      0.0\n",
       "Foundation_CBlock          0      0.0\n",
       "KitchenQual_TA             0      0.0\n",
       "KitchenQual_MISSING        0      0.0\n",
       "OverallQual                0      0.0"
      ]
     },
     "execution_count": 11,
     "metadata": {},
     "output_type": "execute_result"
    }
   ],
   "source": [
    "missing_data"
   ]
  },
  {
   "cell_type": "code",
   "execution_count": 12,
   "metadata": {},
   "outputs": [
    {
     "name": "stdout",
     "output_type": "stream",
     "text": [
      "(1455, 36)\n",
      "(1459, 35)\n"
     ]
    }
   ],
   "source": [
    "print(dataset_train.shape)\n",
    "print(dataset_test.shape)"
   ]
  },
  {
   "cell_type": "code",
   "execution_count": 13,
   "metadata": {},
   "outputs": [],
   "source": [
    "l = dataset_test['Id']"
   ]
  },
  {
   "cell_type": "code",
   "execution_count": 14,
   "metadata": {},
   "outputs": [
    {
     "data": {
      "text/plain": [
       "(1459,)"
      ]
     },
     "execution_count": 14,
     "metadata": {},
     "output_type": "execute_result"
    }
   ],
   "source": [
    "l.shape\n"
   ]
  },
  {
   "cell_type": "code",
   "execution_count": 15,
   "metadata": {},
   "outputs": [],
   "source": [
    "y = dataset_train['SalePrice_y'].values\n",
    "dataset_train = dataset_train.drop(['SalePrice_y'], axis = 1)\n",
    "dataset_train = dataset_train.drop(['Id'], axis = 1)\n",
    "dataset_test = dataset_test.drop(['Id'], axis = 1)\n",
    "X = dataset_train.values\n",
    "X_test_original = dataset_test.values"
   ]
  },
  {
   "cell_type": "code",
   "execution_count": 16,
   "metadata": {},
   "outputs": [
    {
     "name": "stdout",
     "output_type": "stream",
     "text": [
      "(1455, 34)\n",
      "(1459, 34)\n"
     ]
    }
   ],
   "source": [
    "print(dataset_train.shape)\n",
    "print(dataset_test.shape)"
   ]
  },
  {
   "cell_type": "code",
   "execution_count": 17,
   "metadata": {},
   "outputs": [],
   "source": [
    "X_train = X\n",
    "y_train = y\n",
    "X_test = X_test_original"
   ]
  },
  {
   "cell_type": "code",
   "execution_count": 18,
   "metadata": {},
   "outputs": [
    {
     "name": "stdout",
     "output_type": "stream",
     "text": [
      "(1455, 1)\n"
     ]
    }
   ],
   "source": [
    "y_train = np.reshape(np.array([y_train]),(-1,1))\n",
    "print(y_train.shape)"
   ]
  },
  {
   "cell_type": "code",
   "execution_count": 19,
   "metadata": {},
   "outputs": [
    {
     "name": "stdout",
     "output_type": "stream",
     "text": [
      "(1455, 34)\n",
      "(1455, 1)\n",
      "(1459, 34)\n"
     ]
    }
   ],
   "source": [
    "print(X_train.shape)\n",
    "print(y_train.shape)\n",
    "print(X_test.shape)"
   ]
  },
  {
   "cell_type": "code",
   "execution_count": 20,
   "metadata": {},
   "outputs": [
    {
     "name": "stderr",
     "output_type": "stream",
     "text": [
      "/Users/mayansh4/anaconda2/envs/MLAZ/lib/python2.7/site-packages/sklearn/utils/validation.py:475: DataConversionWarning: Data with input dtype int64 was converted to float64 by StandardScaler.\n",
      "  warnings.warn(msg, DataConversionWarning)\n"
     ]
    }
   ],
   "source": [
    "from sklearn.preprocessing import StandardScaler\n",
    "\n",
    "sc_x = StandardScaler()\n",
    "sc_y = StandardScaler()\n",
    "X_train_final = sc_x.fit_transform(X_train)\n",
    "y_train = sc_y.fit_transform(y_train)\n",
    "X_test_final = sc_x.transform(X_test)"
   ]
  },
  {
   "cell_type": "code",
   "execution_count": 37,
   "metadata": {},
   "outputs": [
    {
     "name": "stdout",
     "output_type": "stream",
     "text": [
      "(1455, 34)\n",
      "(1459, 34)\n",
      "(1455, 1)\n"
     ]
    }
   ],
   "source": [
    "print(X_train_final.shape)\n",
    "print(X_test_final.shape)\n",
    "print(y_train.shape)"
   ]
  },
  {
   "cell_type": "code",
   "execution_count": 39,
   "metadata": {},
   "outputs": [
    {
     "data": {
      "text/plain": [
       "SVR(C=10, cache_size=200, coef0=0.0, degree=3, epsilon=0.1, gamma=0.01,\n",
       "  kernel='rbf', max_iter=-1, shrinking=True, tol=0.001, verbose=False)"
      ]
     },
     "execution_count": 39,
     "metadata": {},
     "output_type": "execute_result"
    }
   ],
   "source": [
    "from sklearn.svm import SVR\n",
    "{'kernel': 'rbf', 'C': 10, 'gamma': 0.01}\n",
    "model = SVR(C=10, cache_size=200, coef0=0.0, degree=3, epsilon=0.1, gamma=0.01,\n",
    "  kernel='rbf', max_iter=-1, shrinking=True, tol=0.001, verbose=False)\n",
    "model.fit(X_train_final, y_train)"
   ]
  },
  {
   "cell_type": "code",
   "execution_count": 92,
   "metadata": {},
   "outputs": [
    {
     "name": "stdout",
     "output_type": "stream",
     "text": [
      "(1459,)\n"
     ]
    },
    {
     "ename": "ValueError",
     "evalue": "x and y must be the same size",
     "output_type": "error",
     "traceback": [
      "\u001b[0;31m---------------------------------------------------------------------------\u001b[0m",
      "\u001b[0;31mValueError\u001b[0m                                Traceback (most recent call last)",
      "\u001b[0;32m<ipython-input-92-d90a7602d3af>\u001b[0m in \u001b[0;36m<module>\u001b[0;34m()\u001b[0m\n\u001b[1;32m     15\u001b[0m \u001b[0;31m# Look at the results\u001b[0m\u001b[0;34m\u001b[0m\u001b[0;34m\u001b[0m\u001b[0m\n\u001b[1;32m     16\u001b[0m \u001b[0mlw\u001b[0m \u001b[0;34m=\u001b[0m \u001b[0;36m2\u001b[0m\u001b[0;34m\u001b[0m\u001b[0m\n\u001b[0;32m---> 17\u001b[0;31m \u001b[0mplt\u001b[0m\u001b[0;34m.\u001b[0m\u001b[0mscatter\u001b[0m\u001b[0;34m(\u001b[0m\u001b[0mX_train_final\u001b[0m\u001b[0;34m,\u001b[0m \u001b[0my_train\u001b[0m\u001b[0;34m,\u001b[0m \u001b[0mcolor\u001b[0m\u001b[0;34m=\u001b[0m\u001b[0;34m'darkorange'\u001b[0m\u001b[0;34m,\u001b[0m \u001b[0mlabel\u001b[0m\u001b[0;34m=\u001b[0m\u001b[0;34m'data'\u001b[0m\u001b[0;34m)\u001b[0m\u001b[0;34m\u001b[0m\u001b[0m\n\u001b[0m\u001b[1;32m     18\u001b[0m \u001b[0mplt\u001b[0m\u001b[0;34m.\u001b[0m\u001b[0mplot\u001b[0m\u001b[0;34m(\u001b[0m\u001b[0mX_test_final\u001b[0m\u001b[0;34m,\u001b[0m \u001b[0my_rbf\u001b[0m\u001b[0;34m,\u001b[0m \u001b[0mcolor\u001b[0m\u001b[0;34m=\u001b[0m\u001b[0;34m'navy'\u001b[0m\u001b[0;34m,\u001b[0m \u001b[0mlw\u001b[0m\u001b[0;34m=\u001b[0m\u001b[0mlw\u001b[0m\u001b[0;34m,\u001b[0m \u001b[0mlabel\u001b[0m\u001b[0;34m=\u001b[0m\u001b[0;34m'RBF model'\u001b[0m\u001b[0;34m)\u001b[0m\u001b[0;34m\u001b[0m\u001b[0m\n\u001b[1;32m     19\u001b[0m \u001b[0;31m# plt.plot(X, y_lin, color='c', lw=lw, label='Linear model')\u001b[0m\u001b[0;34m\u001b[0m\u001b[0;34m\u001b[0m\u001b[0m\n",
      "\u001b[0;32m/Users/mayansh4/anaconda2/envs/MLAZ/lib/python2.7/site-packages/matplotlib/pyplot.pyc\u001b[0m in \u001b[0;36mscatter\u001b[0;34m(x, y, s, c, marker, cmap, norm, vmin, vmax, alpha, linewidths, verts, edgecolors, hold, data, **kwargs)\u001b[0m\n\u001b[1;32m   3355\u001b[0m                          \u001b[0mvmin\u001b[0m\u001b[0;34m=\u001b[0m\u001b[0mvmin\u001b[0m\u001b[0;34m,\u001b[0m \u001b[0mvmax\u001b[0m\u001b[0;34m=\u001b[0m\u001b[0mvmax\u001b[0m\u001b[0;34m,\u001b[0m \u001b[0malpha\u001b[0m\u001b[0;34m=\u001b[0m\u001b[0malpha\u001b[0m\u001b[0;34m,\u001b[0m\u001b[0;34m\u001b[0m\u001b[0m\n\u001b[1;32m   3356\u001b[0m                          \u001b[0mlinewidths\u001b[0m\u001b[0;34m=\u001b[0m\u001b[0mlinewidths\u001b[0m\u001b[0;34m,\u001b[0m \u001b[0mverts\u001b[0m\u001b[0;34m=\u001b[0m\u001b[0mverts\u001b[0m\u001b[0;34m,\u001b[0m\u001b[0;34m\u001b[0m\u001b[0m\n\u001b[0;32m-> 3357\u001b[0;31m                          edgecolors=edgecolors, data=data, **kwargs)\n\u001b[0m\u001b[1;32m   3358\u001b[0m     \u001b[0;32mfinally\u001b[0m\u001b[0;34m:\u001b[0m\u001b[0;34m\u001b[0m\u001b[0m\n\u001b[1;32m   3359\u001b[0m         \u001b[0max\u001b[0m\u001b[0;34m.\u001b[0m\u001b[0m_hold\u001b[0m \u001b[0;34m=\u001b[0m \u001b[0mwashold\u001b[0m\u001b[0;34m\u001b[0m\u001b[0m\n",
      "\u001b[0;32m/Users/mayansh4/anaconda2/envs/MLAZ/lib/python2.7/site-packages/matplotlib/__init__.pyc\u001b[0m in \u001b[0;36minner\u001b[0;34m(ax, *args, **kwargs)\u001b[0m\n\u001b[1;32m   1708\u001b[0m                     warnings.warn(msg % (label_namer, func.__name__),\n\u001b[1;32m   1709\u001b[0m                                   RuntimeWarning, stacklevel=2)\n\u001b[0;32m-> 1710\u001b[0;31m             \u001b[0;32mreturn\u001b[0m \u001b[0mfunc\u001b[0m\u001b[0;34m(\u001b[0m\u001b[0max\u001b[0m\u001b[0;34m,\u001b[0m \u001b[0;34m*\u001b[0m\u001b[0margs\u001b[0m\u001b[0;34m,\u001b[0m \u001b[0;34m**\u001b[0m\u001b[0mkwargs\u001b[0m\u001b[0;34m)\u001b[0m\u001b[0;34m\u001b[0m\u001b[0m\n\u001b[0m\u001b[1;32m   1711\u001b[0m         \u001b[0mpre_doc\u001b[0m \u001b[0;34m=\u001b[0m \u001b[0minner\u001b[0m\u001b[0;34m.\u001b[0m\u001b[0m__doc__\u001b[0m\u001b[0;34m\u001b[0m\u001b[0m\n\u001b[1;32m   1712\u001b[0m         \u001b[0;32mif\u001b[0m \u001b[0mpre_doc\u001b[0m \u001b[0;32mis\u001b[0m \u001b[0mNone\u001b[0m\u001b[0;34m:\u001b[0m\u001b[0;34m\u001b[0m\u001b[0m\n",
      "\u001b[0;32m/Users/mayansh4/anaconda2/envs/MLAZ/lib/python2.7/site-packages/matplotlib/axes/_axes.pyc\u001b[0m in \u001b[0;36mscatter\u001b[0;34m(self, x, y, s, c, marker, cmap, norm, vmin, vmax, alpha, linewidths, verts, edgecolors, **kwargs)\u001b[0m\n\u001b[1;32m   4017\u001b[0m         \u001b[0my\u001b[0m \u001b[0;34m=\u001b[0m \u001b[0mnp\u001b[0m\u001b[0;34m.\u001b[0m\u001b[0mma\u001b[0m\u001b[0;34m.\u001b[0m\u001b[0mravel\u001b[0m\u001b[0;34m(\u001b[0m\u001b[0my\u001b[0m\u001b[0;34m)\u001b[0m\u001b[0;34m\u001b[0m\u001b[0m\n\u001b[1;32m   4018\u001b[0m         \u001b[0;32mif\u001b[0m \u001b[0mx\u001b[0m\u001b[0;34m.\u001b[0m\u001b[0msize\u001b[0m \u001b[0;34m!=\u001b[0m \u001b[0my\u001b[0m\u001b[0;34m.\u001b[0m\u001b[0msize\u001b[0m\u001b[0;34m:\u001b[0m\u001b[0;34m\u001b[0m\u001b[0m\n\u001b[0;32m-> 4019\u001b[0;31m             \u001b[0;32mraise\u001b[0m \u001b[0mValueError\u001b[0m\u001b[0;34m(\u001b[0m\u001b[0;34m\"x and y must be the same size\"\u001b[0m\u001b[0;34m)\u001b[0m\u001b[0;34m\u001b[0m\u001b[0m\n\u001b[0m\u001b[1;32m   4020\u001b[0m \u001b[0;34m\u001b[0m\u001b[0m\n\u001b[1;32m   4021\u001b[0m         \u001b[0;32mif\u001b[0m \u001b[0ms\u001b[0m \u001b[0;32mis\u001b[0m \u001b[0mNone\u001b[0m\u001b[0;34m:\u001b[0m\u001b[0;34m\u001b[0m\u001b[0m\n",
      "\u001b[0;31mValueError\u001b[0m: x and y must be the same size"
     ]
    },
    {
     "data": {
      "image/png": "[encoded data removed]",
      "text/plain": [
       "<matplotlib.figure.Figure at 0x1a1e7e6cd0>"
      ]
     },
     "metadata": {},
     "output_type": "display_data"
    }
   ],
   "source": [
    "# from sklearn.svm import SVR\n",
    "# import matplotlib.pyplot as plt\n",
    "# svr_rbf = SVR(kernel='rbf', C=1e3, gamma=0.1)\n",
    "# svr_lin = SVR(kernel='linear', C=1e3)\n",
    "# svr_poly = SVR(kernel='poly', C=1e3, degree=2)\n",
    "# X = X_train_final\n",
    "# y = y_train\n",
    "# y_rbf = svr_rbf.fit(X_train_final, y_train).predict(X_test_final)\n",
    "# print(y_rbf.shape)\n",
    "# y_rbf = np.reshape(np.array([y_rbf]),(-1,1))\n",
    "# # y_lin = svr_lin.fit(X, y).predict(X)\n",
    "# # y_poly = svr_poly.fit(X, y).predict(X)\n",
    "\n",
    "# # #############################################################################\n",
    "# # Look at the results\n",
    "# lw = 2\n",
    "# plt.scatter(X_train_final, y_train, color='darkorange', label='data')\n",
    "# plt.plot(X_test_final, y_rbf, color='navy', lw=lw, label='RBF model')\n",
    "# # plt.plot(X, y_lin, color='c', lw=lw, label='Linear model')\n",
    "# # plt.plot(X, y_poly, color='cornflowerblue', lw=lw, label='Polynomial model')\n",
    "# plt.xlabel('data')\n",
    "# plt.ylabel('target')\n",
    "# plt.title('Support Vector Regression')\n",
    "# plt.legend()\n",
    "# plt.show()"
   ]
  },
  {
   "cell_type": "code",
   "execution_count": null,
   "metadata": {},
   "outputs": [],
   "source": []
  },
  {
   "cell_type": "code",
   "execution_count": null,
   "metadata": {},
   "outputs": [],
   "source": []
  },
  {
   "cell_type": "code",
   "execution_count": null,
   "metadata": {},
   "outputs": [],
   "source": []
  },
  {
   "cell_type": "code",
   "execution_count": null,
   "metadata": {},
   "outputs": [],
   "source": []
  },
  {
   "cell_type": "code",
   "execution_count": 29,
   "metadata": {},
   "outputs": [],
   "source": [
    "# Make predictions using the testing set\n",
    "y_pred = model.predict(X_test_final)"
   ]
  },
  {
   "cell_type": "code",
   "execution_count": 30,
   "metadata": {},
   "outputs": [
    {
     "data": {
      "text/plain": [
       "array([-0.66247358, -0.73148931, -0.33480435, ...,  0.04694933,\n",
       "       -0.40373386,  0.05122235])"
      ]
     },
     "execution_count": 30,
     "metadata": {},
     "output_type": "execute_result"
    }
   ],
   "source": [
    "y_pred"
   ]
  },
  {
   "cell_type": "code",
   "execution_count": 30,
   "metadata": {},
   "outputs": [],
   "source": [
    "# from sklearn import linear_model\n",
    "# from sklearn.metrics import mean_squared_error, r2_score\n",
    "\n",
    "# regr = linear_model.LinearRegression()\n",
    "\n",
    "# regr.fit(X_train_final, y_train)\n",
    "\n",
    "# # Make predictions using the testing set\n",
    "# y_pred = regr.predict(X_test_final)"
   ]
  },
  {
   "cell_type": "code",
   "execution_count": 31,
   "metadata": {},
   "outputs": [
    {
     "data": {
      "text/plain": [
       "array([-0.66247358, -0.73148931, -0.33480435, ...,  0.04694933,\n",
       "       -0.40373386,  0.05122235])"
      ]
     },
     "execution_count": 31,
     "metadata": {},
     "output_type": "execute_result"
    }
   ],
   "source": [
    "y_pred"
   ]
  },
  {
   "cell_type": "code",
   "execution_count": 32,
   "metadata": {},
   "outputs": [
    {
     "data": {
      "text/plain": [
       "(1459, 1)"
      ]
     },
     "execution_count": 32,
     "metadata": {},
     "output_type": "execute_result"
    }
   ],
   "source": [
    "y_pred = np.reshape(np.array([y_pred]),(-1,1))\n",
    "y_pred.shape"
   ]
  },
  {
   "cell_type": "code",
   "execution_count": 33,
   "metadata": {},
   "outputs": [],
   "source": [
    "y_pred_converted = sc_y.inverse_transform(y_pred)"
   ]
  },
  {
   "cell_type": "code",
   "execution_count": 34,
   "metadata": {},
   "outputs": [
    {
     "data": {
      "text/plain": [
       "(1459, 1)"
      ]
     },
     "execution_count": 34,
     "metadata": {},
     "output_type": "execute_result"
    }
   ],
   "source": [
    "y_pred_converted.shape"
   ]
  },
  {
   "cell_type": "code",
   "execution_count": 35,
   "metadata": {},
   "outputs": [
    {
     "name": "stdout",
     "output_type": "stream",
     "text": [
      "(1459, 2)\n"
     ]
    }
   ],
   "source": [
    "result = pd.DataFrame()\n",
    "result['Id'] = l\n",
    "result['SalePrice'] = y_pred_converted\n",
    "print(result.shape)\n"
   ]
  },
  {
   "cell_type": "code",
   "execution_count": 36,
   "metadata": {},
   "outputs": [],
   "source": [
    "new_cols = ['Id', 'SalePrice']\n",
    "result.to_csv('submission_01.csv', columns=new_cols, index=False)"
   ]
  },
  {
   "cell_type": "code",
   "execution_count": null,
   "metadata": {},
   "outputs": [],
   "source": [
    "'''\n",
    "from sklearn.preprocessing import StandardScaler\n",
    "\n",
    "sc = StandardScaler()\n",
    "X_train_final = sc.fit_transform(X_train)\n",
    "X_test_final = sc.transform(X_test)\n",
    "\n",
    "sample_weight = np.random.RandomState(42).rand(y_train.shape[0])\n",
    "\n",
    "print(\"Training......\")\n",
    "from sklearn.ensemble import RandomForestClassifier\n",
    "\n",
    "classifier = RandomForestClassifier(n_estimators=322, random_state=0, bootstrap=True, max_depth=32,\n",
    "max_features='sqrt',\n",
    "min_samples_leaf=1,\n",
    "min_samples_split=2,\n",
    "n_jobs=-1)\n",
    "# classifier.fit(X_train_final, y_train)\n",
    "clf_isotonic = CalibratedClassifierCV(classifier, method='isotonic')\n",
    "clf_isotonic.fit(X_train_final, y_train, sample_weight)\n",
    "\n",
    "print(\"Predicting....\")\n",
    "# y_prob = classifier.predict_proba(X_test_final)\n",
    "y_prob = clf_isotonic.predict_proba(X_test_final)\n",
    "\n",
    "print(\"Converting to CSV....\")\n",
    "innovation_challenge_key = dataset_scoring.innovation_challenge_key\n",
    "innovation_challenge_key = list(innovation_challenge_key)\n",
    "final_prob = list(y_prob[:, 1])\n",
    "final_list = list(zip(innovation_challenge_key, final_prob))\n",
    "new_cols = ['INNOVATION_CHALLENGE_KEY', 'RENEWAL_PROBABLIITY']\n",
    "df = pd.DataFrame(final_list, columns=new_cols)\n",
    "df = df.sort_values('INNOVATION_CHALLENGE_KEY')\n",
    "df.to_csv('submission_120418_322_retuned_calib_only_major_training.csv', columns=new_cols, index=False)\n",
    "'''"
   ]
  }
 ],
 "metadata": {
  "kernelspec": {
   "display_name": "Python 2",
   "language": "python",
   "name": "python2"
  },
  "language_info": {
   "codemirror_mode": {
    "name": "ipython",
    "version": 2
   },
   "file_extension": ".py",
   "mimetype": "text/x-python",
   "name": "python",
   "nbconvert_exporter": "python",
   "pygments_lexer": "ipython2",
   "version": "2.7.14"
  }
 },
 "nbformat": 4,
 "nbformat_minor": 2
}

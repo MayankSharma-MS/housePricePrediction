{
 "cells": [
  {
   "cell_type": "code",
   "execution_count": 1,
   "metadata": {},
   "outputs": [],
   "source": [
    "import numpy as np\n",
    "import pandas as pd"
   ]
  },
  {
   "cell_type": "code",
   "execution_count": 2,
   "metadata": {},
   "outputs": [],
   "source": [
    "train_file_path_numerical = 'data/numerical_data_train.csv'\n",
    "train_file_path_categorical = 'data/categorical_dataset_housing_training.csv'\n",
    "test_file_path_numerical = 'data/numerical_data_test.csv'\n",
    "test_file_path_categorical = 'data/categorical_dataset_housing_testing.csv'"
   ]
  },
  {
   "cell_type": "code",
   "execution_count": 3,
   "metadata": {},
   "outputs": [],
   "source": [
    "dataset_numerical_train = pd.read_csv(train_file_path_numerical)\n",
    "dataset_categorical_train = pd.read_csv(train_file_path_categorical)\n",
    "dataset_numerical_test = pd.read_csv(test_file_path_numerical)\n",
    "dataset_categorical_test = pd.read_csv(test_file_path_categorical)"
   ]
  },
  {
   "cell_type": "code",
   "execution_count": 4,
   "metadata": {},
   "outputs": [
    {
     "name": "stdout",
     "output_type": "stream",
     "text": [
      "(1455, 9)\n",
      "(1460, 29)\n",
      "(1459, 8)\n",
      "(1459, 28)\n"
     ]
    }
   ],
   "source": [
    "print(dataset_numerical_train.shape)\n",
    "print(dataset_categorical_train.shape)\n",
    "print(dataset_numerical_test.shape)\n",
    "print(dataset_categorical_test.shape)"
   ]
  },
  {
   "cell_type": "code",
   "execution_count": 5,
   "metadata": {},
   "outputs": [
    {
     "name": "stdout",
     "output_type": "stream",
     "text": [
      "Index([u'SalePrice', u'OverallQual', u'GrLivArea', u'GarageArea',\n",
      "       u'TotalBsmtSF', u'FullBath', u'Fireplaces', u'Age', u'Id'],\n",
      "      dtype='object')\n",
      "Index([u'Neighborhood', u'MSSubClass', u'Exterior1st', u'Exterior2nd',\n",
      "       u'SaleType', u'MSZoning', u'SalePrice', u'Id', u'ExterQual_Fa',\n",
      "       u'ExterQual_Gd', u'ExterQual_TA', u'KitchenQual_Fa', u'KitchenQual_Gd',\n",
      "       u'KitchenQual_TA', u'Foundation_CBlock', u'Foundation_PConc',\n",
      "       u'Foundation_Slab', u'Foundation_Stone', u'Foundation_Wood',\n",
      "       u'HeatingQC_Fa', u'HeatingQC_Gd', u'HeatingQC_Po', u'HeatingQC_TA',\n",
      "       u'SaleCondition_AdjLand', u'SaleCondition_Alloca',\n",
      "       u'SaleCondition_Family', u'SaleCondition_Normal',\n",
      "       u'SaleCondition_Partial', u'KitchenQual_MISSING'],\n",
      "      dtype='object')\n",
      "Index([u'OverallQual', u'GrLivArea', u'GarageArea', u'TotalBsmtSF',\n",
      "       u'FullBath', u'Fireplaces', u'Age', u'Id'],\n",
      "      dtype='object')\n",
      "Index([u'Neighborhood', u'MSSubClass', u'Exterior1st', u'Exterior2nd',\n",
      "       u'SaleType', u'MSZoning', u'Id', u'ExterQual_Fa', u'ExterQual_Gd',\n",
      "       u'ExterQual_TA', u'KitchenQual_Fa', u'KitchenQual_Gd',\n",
      "       u'KitchenQual_MISSING', u'KitchenQual_TA', u'Foundation_CBlock',\n",
      "       u'Foundation_PConc', u'Foundation_Slab', u'Foundation_Stone',\n",
      "       u'Foundation_Wood', u'HeatingQC_Fa', u'HeatingQC_Gd', u'HeatingQC_Po',\n",
      "       u'HeatingQC_TA', u'SaleCondition_AdjLand', u'SaleCondition_Alloca',\n",
      "       u'SaleCondition_Family', u'SaleCondition_Normal',\n",
      "       u'SaleCondition_Partial'],\n",
      "      dtype='object')\n"
     ]
    }
   ],
   "source": [
    "print(dataset_numerical_train.columns)\n",
    "print(dataset_categorical_train.columns)\n",
    "print(dataset_numerical_test.columns)\n",
    "print(dataset_categorical_test.columns)"
   ]
  },
  {
   "cell_type": "code",
   "execution_count": 6,
   "metadata": {},
   "outputs": [],
   "source": [
    "dataset_train = pd.merge(dataset_numerical_train,dataset_categorical_train,on = 'Id')\n",
    "dataset_test = pd.merge(dataset_numerical_test,dataset_categorical_test,on = 'Id')"
   ]
  },
  {
   "cell_type": "code",
   "execution_count": 7,
   "metadata": {},
   "outputs": [
    {
     "name": "stdout",
     "output_type": "stream",
     "text": [
      "Index([u'SalePrice_x', u'OverallQual', u'GrLivArea', u'GarageArea',\n",
      "       u'TotalBsmtSF', u'FullBath', u'Fireplaces', u'Age', u'Id',\n",
      "       u'Neighborhood', u'MSSubClass', u'Exterior1st', u'Exterior2nd',\n",
      "       u'SaleType', u'MSZoning', u'SalePrice_y', u'ExterQual_Fa',\n",
      "       u'ExterQual_Gd', u'ExterQual_TA', u'KitchenQual_Fa', u'KitchenQual_Gd',\n",
      "       u'KitchenQual_TA', u'Foundation_CBlock', u'Foundation_PConc',\n",
      "       u'Foundation_Slab', u'Foundation_Stone', u'Foundation_Wood',\n",
      "       u'HeatingQC_Fa', u'HeatingQC_Gd', u'HeatingQC_Po', u'HeatingQC_TA',\n",
      "       u'SaleCondition_AdjLand', u'SaleCondition_Alloca',\n",
      "       u'SaleCondition_Family', u'SaleCondition_Normal',\n",
      "       u'SaleCondition_Partial', u'KitchenQual_MISSING'],\n",
      "      dtype='object')\n",
      "Index([u'OverallQual', u'GrLivArea', u'GarageArea', u'TotalBsmtSF',\n",
      "       u'FullBath', u'Fireplaces', u'Age', u'Id', u'Neighborhood',\n",
      "       u'MSSubClass', u'Exterior1st', u'Exterior2nd', u'SaleType', u'MSZoning',\n",
      "       u'ExterQual_Fa', u'ExterQual_Gd', u'ExterQual_TA', u'KitchenQual_Fa',\n",
      "       u'KitchenQual_Gd', u'KitchenQual_MISSING', u'KitchenQual_TA',\n",
      "       u'Foundation_CBlock', u'Foundation_PConc', u'Foundation_Slab',\n",
      "       u'Foundation_Stone', u'Foundation_Wood', u'HeatingQC_Fa',\n",
      "       u'HeatingQC_Gd', u'HeatingQC_Po', u'HeatingQC_TA',\n",
      "       u'SaleCondition_AdjLand', u'SaleCondition_Alloca',\n",
      "       u'SaleCondition_Family', u'SaleCondition_Normal',\n",
      "       u'SaleCondition_Partial'],\n",
      "      dtype='object')\n"
     ]
    }
   ],
   "source": [
    "print(dataset_train.columns)\n",
    "print(dataset_test.columns)"
   ]
  },
  {
   "cell_type": "code",
   "execution_count": 8,
   "metadata": {},
   "outputs": [],
   "source": [
    "dataset_train = dataset_train.drop(['SalePrice_x'], axis = 1)"
   ]
  },
  {
   "cell_type": "code",
   "execution_count": 9,
   "metadata": {},
   "outputs": [
    {
     "name": "stdout",
     "output_type": "stream",
     "text": [
      "(1455, 36)\n",
      "(1459, 35)\n"
     ]
    }
   ],
   "source": [
    "print(dataset_train.shape)\n",
    "print(dataset_test.shape)"
   ]
  },
  {
   "cell_type": "code",
   "execution_count": 10,
   "metadata": {},
   "outputs": [],
   "source": [
    "total = dataset_test.isnull().sum().sort_values(ascending=False)\n",
    "percent = (dataset_test.isnull().sum()/dataset_test.isnull().count()).sort_values(ascending=False)\n",
    "missing_data = pd.concat([total, percent], axis=1, keys=['Total', 'Percent'])"
   ]
  },
  {
   "cell_type": "code",
   "execution_count": 11,
   "metadata": {},
   "outputs": [
    {
     "data": {
      "text/html": [
       "<div>\n",
       "<style scoped>\n",
       "    .dataframe tbody tr th:only-of-type {\n",
       "        vertical-align: middle;\n",
       "    }\n",
       "\n",
       "    .dataframe tbody tr th {\n",
       "        vertical-align: top;\n",
       "    }\n",
       "\n",
       "    .dataframe thead th {\n",
       "        text-align: right;\n",
       "    }\n",
       "</style>\n",
       "<table border=\"1\" class=\"dataframe\">\n",
       "  <thead>\n",
       "    <tr style=\"text-align: right;\">\n",
       "      <th></th>\n",
       "      <th>Total</th>\n",
       "      <th>Percent</th>\n",
       "    </tr>\n",
       "  </thead>\n",
       "  <tbody>\n",
       "    <tr>\n",
       "      <th>SaleCondition_Partial</th>\n",
       "      <td>0</td>\n",
       "      <td>0.0</td>\n",
       "    </tr>\n",
       "    <tr>\n",
       "      <th>Neighborhood</th>\n",
       "      <td>0</td>\n",
       "      <td>0.0</td>\n",
       "    </tr>\n",
       "    <tr>\n",
       "      <th>ExterQual_Fa</th>\n",
       "      <td>0</td>\n",
       "      <td>0.0</td>\n",
       "    </tr>\n",
       "    <tr>\n",
       "      <th>MSZoning</th>\n",
       "      <td>0</td>\n",
       "      <td>0.0</td>\n",
       "    </tr>\n",
       "    <tr>\n",
       "      <th>SaleType</th>\n",
       "      <td>0</td>\n",
       "      <td>0.0</td>\n",
       "    </tr>\n",
       "    <tr>\n",
       "      <th>Exterior2nd</th>\n",
       "      <td>0</td>\n",
       "      <td>0.0</td>\n",
       "    </tr>\n",
       "    <tr>\n",
       "      <th>Exterior1st</th>\n",
       "      <td>0</td>\n",
       "      <td>0.0</td>\n",
       "    </tr>\n",
       "    <tr>\n",
       "      <th>MSSubClass</th>\n",
       "      <td>0</td>\n",
       "      <td>0.0</td>\n",
       "    </tr>\n",
       "    <tr>\n",
       "      <th>Id</th>\n",
       "      <td>0</td>\n",
       "      <td>0.0</td>\n",
       "    </tr>\n",
       "    <tr>\n",
       "      <th>ExterQual_TA</th>\n",
       "      <td>0</td>\n",
       "      <td>0.0</td>\n",
       "    </tr>\n",
       "    <tr>\n",
       "      <th>Age</th>\n",
       "      <td>0</td>\n",
       "      <td>0.0</td>\n",
       "    </tr>\n",
       "    <tr>\n",
       "      <th>Fireplaces</th>\n",
       "      <td>0</td>\n",
       "      <td>0.0</td>\n",
       "    </tr>\n",
       "    <tr>\n",
       "      <th>FullBath</th>\n",
       "      <td>0</td>\n",
       "      <td>0.0</td>\n",
       "    </tr>\n",
       "    <tr>\n",
       "      <th>TotalBsmtSF</th>\n",
       "      <td>0</td>\n",
       "      <td>0.0</td>\n",
       "    </tr>\n",
       "    <tr>\n",
       "      <th>GarageArea</th>\n",
       "      <td>0</td>\n",
       "      <td>0.0</td>\n",
       "    </tr>\n",
       "    <tr>\n",
       "      <th>GrLivArea</th>\n",
       "      <td>0</td>\n",
       "      <td>0.0</td>\n",
       "    </tr>\n",
       "    <tr>\n",
       "      <th>ExterQual_Gd</th>\n",
       "      <td>0</td>\n",
       "      <td>0.0</td>\n",
       "    </tr>\n",
       "    <tr>\n",
       "      <th>KitchenQual_Fa</th>\n",
       "      <td>0</td>\n",
       "      <td>0.0</td>\n",
       "    </tr>\n",
       "    <tr>\n",
       "      <th>SaleCondition_Normal</th>\n",
       "      <td>0</td>\n",
       "      <td>0.0</td>\n",
       "    </tr>\n",
       "    <tr>\n",
       "      <th>HeatingQC_Fa</th>\n",
       "      <td>0</td>\n",
       "      <td>0.0</td>\n",
       "    </tr>\n",
       "    <tr>\n",
       "      <th>SaleCondition_Family</th>\n",
       "      <td>0</td>\n",
       "      <td>0.0</td>\n",
       "    </tr>\n",
       "    <tr>\n",
       "      <th>SaleCondition_Alloca</th>\n",
       "      <td>0</td>\n",
       "      <td>0.0</td>\n",
       "    </tr>\n",
       "    <tr>\n",
       "      <th>SaleCondition_AdjLand</th>\n",
       "      <td>0</td>\n",
       "      <td>0.0</td>\n",
       "    </tr>\n",
       "    <tr>\n",
       "      <th>HeatingQC_TA</th>\n",
       "      <td>0</td>\n",
       "      <td>0.0</td>\n",
       "    </tr>\n",
       "    <tr>\n",
       "      <th>HeatingQC_Po</th>\n",
       "      <td>0</td>\n",
       "      <td>0.0</td>\n",
       "    </tr>\n",
       "    <tr>\n",
       "      <th>HeatingQC_Gd</th>\n",
       "      <td>0</td>\n",
       "      <td>0.0</td>\n",
       "    </tr>\n",
       "    <tr>\n",
       "      <th>Foundation_Wood</th>\n",
       "      <td>0</td>\n",
       "      <td>0.0</td>\n",
       "    </tr>\n",
       "    <tr>\n",
       "      <th>KitchenQual_Gd</th>\n",
       "      <td>0</td>\n",
       "      <td>0.0</td>\n",
       "    </tr>\n",
       "    <tr>\n",
       "      <th>Foundation_Stone</th>\n",
       "      <td>0</td>\n",
       "      <td>0.0</td>\n",
       "    </tr>\n",
       "    <tr>\n",
       "      <th>Foundation_Slab</th>\n",
       "      <td>0</td>\n",
       "      <td>0.0</td>\n",
       "    </tr>\n",
       "    <tr>\n",
       "      <th>Foundation_PConc</th>\n",
       "      <td>0</td>\n",
       "      <td>0.0</td>\n",
       "    </tr>\n",
       "    <tr>\n",
       "      <th>Foundation_CBlock</th>\n",
       "      <td>0</td>\n",
       "      <td>0.0</td>\n",
       "    </tr>\n",
       "    <tr>\n",
       "      <th>KitchenQual_TA</th>\n",
       "      <td>0</td>\n",
       "      <td>0.0</td>\n",
       "    </tr>\n",
       "    <tr>\n",
       "      <th>KitchenQual_MISSING</th>\n",
       "      <td>0</td>\n",
       "      <td>0.0</td>\n",
       "    </tr>\n",
       "    <tr>\n",
       "      <th>OverallQual</th>\n",
       "      <td>0</td>\n",
       "      <td>0.0</td>\n",
       "    </tr>\n",
       "  </tbody>\n",
       "</table>\n",
       "</div>"
      ],
      "text/plain": [
       "                       Total  Percent\n",
       "SaleCondition_Partial      0      0.0\n",
       "Neighborhood               0      0.0\n",
       "ExterQual_Fa               0      0.0\n",
       "MSZoning                   0      0.0\n",
       "SaleType                   0      0.0\n",
       "Exterior2nd                0      0.0\n",
       "Exterior1st                0      0.0\n",
       "MSSubClass                 0      0.0\n",
       "Id                         0      0.0\n",
       "ExterQual_TA               0      0.0\n",
       "Age                        0      0.0\n",
       "Fireplaces                 0      0.0\n",
       "FullBath                   0      0.0\n",
       "TotalBsmtSF                0      0.0\n",
       "GarageArea                 0      0.0\n",
       "GrLivArea                  0      0.0\n",
       "ExterQual_Gd               0      0.0\n",
       "KitchenQual_Fa             0      0.0\n",
       "SaleCondition_Normal       0      0.0\n",
       "HeatingQC_Fa               0      0.0\n",
       "SaleCondition_Family       0      0.0\n",
       "SaleCondition_Alloca       0      0.0\n",
       "SaleCondition_AdjLand      0      0.0\n",
       "HeatingQC_TA               0      0.0\n",
       "HeatingQC_Po               0      0.0\n",
       "HeatingQC_Gd               0      0.0\n",
       "Foundation_Wood            0      0.0\n",
       "KitchenQual_Gd             0      0.0\n",
       "Foundation_Stone           0      0.0\n",
       "Foundation_Slab            0      0.0\n",
       "Foundation_PConc           0      0.0\n",
       "Foundation_CBlock          0      0.0\n",
       "KitchenQual_TA             0      0.0\n",
       "KitchenQual_MISSING        0      0.0\n",
       "OverallQual                0      0.0"
      ]
     },
     "execution_count": 11,
     "metadata": {},
     "output_type": "execute_result"
    }
   ],
   "source": [
    "missing_data"
   ]
  },
  {
   "cell_type": "code",
   "execution_count": 12,
   "metadata": {},
   "outputs": [
    {
     "data": {
      "text/plain": [
       "'\\nfrom sklearn.preprocessing import StandardScaler\\nscalar = StandardScaler()\\ndataset_train = pd.DataFrame(scalar.fit_transform(dataset_train), columns=dataset_train.columns)\\ndataset_test = pd.DataFrame(scalar.transform(dataset_test), columns=dataset_train.columns)\\n'"
      ]
     },
     "execution_count": 12,
     "metadata": {},
     "output_type": "execute_result"
    }
   ],
   "source": [
    "'''\n",
    "from sklearn.preprocessing import StandardScaler\n",
    "scalar = StandardScaler()\n",
    "dataset_train = pd.DataFrame(scalar.fit_transform(dataset_train), columns=dataset_train.columns)\n",
    "dataset_test = pd.DataFrame(scalar.transform(dataset_test), columns=dataset_train.columns)\n",
    "'''"
   ]
  },
  {
   "cell_type": "code",
   "execution_count": 13,
   "metadata": {},
   "outputs": [
    {
     "name": "stdout",
     "output_type": "stream",
     "text": [
      "(1455, 36)\n",
      "(1459, 35)\n"
     ]
    }
   ],
   "source": [
    "print(dataset_train.shape)\n",
    "print(dataset_test.shape)"
   ]
  },
  {
   "cell_type": "code",
   "execution_count": 14,
   "metadata": {},
   "outputs": [],
   "source": [
    "l = dataset_test['Id']"
   ]
  },
  {
   "cell_type": "code",
   "execution_count": 15,
   "metadata": {},
   "outputs": [
    {
     "data": {
      "text/plain": [
       "(1459,)"
      ]
     },
     "execution_count": 15,
     "metadata": {},
     "output_type": "execute_result"
    }
   ],
   "source": [
    "l.shape\n"
   ]
  },
  {
   "cell_type": "code",
   "execution_count": 16,
   "metadata": {},
   "outputs": [],
   "source": [
    "y = dataset_train['SalePrice_y'].values\n",
    "dataset_train = dataset_train.drop(['SalePrice_y'], axis = 1)\n",
    "dataset_train = dataset_train.drop(['Id'], axis = 1)\n",
    "dataset_test = dataset_test.drop(['Id'], axis = 1)\n",
    "X = dataset_train.values\n",
    "X_test_original = dataset_test.values"
   ]
  },
  {
   "cell_type": "code",
   "execution_count": 17,
   "metadata": {},
   "outputs": [
    {
     "data": {
      "text/plain": [
       "(1459, 34)"
      ]
     },
     "execution_count": 17,
     "metadata": {},
     "output_type": "execute_result"
    }
   ],
   "source": [
    "dataset_test.shape"
   ]
  },
  {
   "cell_type": "code",
   "execution_count": 18,
   "metadata": {},
   "outputs": [],
   "source": [
    "from sklearn.model_selection import train_test_split\n",
    "\n",
    "X_train, X_test, y_train, y_test = train_test_split(X, y, test_size=0.20, random_state=0)"
   ]
  },
  {
   "cell_type": "code",
   "execution_count": null,
   "metadata": {},
   "outputs": [],
   "source": []
  },
  {
   "cell_type": "code",
   "execution_count": 19,
   "metadata": {},
   "outputs": [
    {
     "name": "stdout",
     "output_type": "stream",
     "text": [
      "(1164, 1)\n",
      "(291, 1)\n"
     ]
    }
   ],
   "source": [
    "y_train = np.reshape(np.array([y_train]),(-1,1))\n",
    "print(y_train.shape)\n",
    "y_test = np.reshape(np.array([y_test]),(-1,1))\n",
    "print(y_test.shape)"
   ]
  },
  {
   "cell_type": "code",
   "execution_count": 20,
   "metadata": {},
   "outputs": [
    {
     "name": "stdout",
     "output_type": "stream",
     "text": [
      "(1164, 34)\n",
      "(1164, 1)\n",
      "(291, 34)\n"
     ]
    }
   ],
   "source": [
    "print(X_train.shape)\n",
    "print(y_train.shape)\n",
    "print(X_test.shape)"
   ]
  },
  {
   "cell_type": "code",
   "execution_count": 21,
   "metadata": {},
   "outputs": [
    {
     "name": "stderr",
     "output_type": "stream",
     "text": [
      "/Users/mayansh4/anaconda2/envs/MLAZ/lib/python2.7/site-packages/sklearn/utils/validation.py:475: DataConversionWarning: Data with input dtype int64 was converted to float64 by StandardScaler.\n",
      "  warnings.warn(msg, DataConversionWarning)\n"
     ]
    }
   ],
   "source": [
    "from sklearn.preprocessing import StandardScaler\n",
    "\n",
    "sc_x = StandardScaler()\n",
    "sc_y = StandardScaler()\n",
    "X_train_final = sc_x.fit_transform(X_train)\n",
    "y_train = sc_y.fit_transform(y_train)\n",
    "X_test_final = sc_x.transform(X_test)\n",
    "y_test = sc_y.transform(y_test)"
   ]
  },
  {
   "cell_type": "code",
   "execution_count": 22,
   "metadata": {},
   "outputs": [
    {
     "name": "stdout",
     "output_type": "stream",
     "text": [
      "(1164, 34)\n",
      "(291, 34)\n"
     ]
    }
   ],
   "source": [
    "print(X_train_final.shape)\n",
    "print(X_test_final.shape)"
   ]
  },
  {
   "cell_type": "code",
   "execution_count": null,
   "metadata": {},
   "outputs": [
    {
     "name": "stdout",
     "output_type": "stream",
     "text": [
      "# Tuning hyper-parameters\n",
      "()\n"
     ]
    },
    {
     "name": "stderr",
     "output_type": "stream",
     "text": [
      "/Users/mayansh4/anaconda2/envs/MLAZ/lib/python2.7/site-packages/sklearn/utils/validation.py:578: DataConversionWarning: A column-vector y was passed when a 1d array was expected. Please change the shape of y to (n_samples, ), for example using ravel().\n",
      "  y = column_or_1d(y, warn=True)\n"
     ]
    }
   ],
   "source": [
    "from sklearn.model_selection import GridSearchCV\n",
    "from sklearn import svm\n",
    "# Set the parameters by cross-validation\n",
    "parameters = [{'kernel': ['rbf', 'linear', 'poly', 'sigmoid'],\n",
    "               'gamma': [1e-4, 1e-3, 0.01, 0.1, 0.2, 0.5],\n",
    "                'C': [1, 10, 100, 1000],\n",
    "                'coef0':[0.0, 0.5, 1],\n",
    "              'shrinking': [True, False],\n",
    "              'max_iter': [-1],\n",
    "              'epsilon': [0.1, 0.2, 0.5, 0.8, 1]}]\n",
    "\n",
    "print(\"# Tuning hyper-parameters\")\n",
    "print()\n",
    "clf = GridSearchCV(svm.SVR(), parameters, cv=5)\n",
    "clf.fit(X_train_final, y_train)\n",
    "\n",
    "print(\"Best parameters set found on development set:\")\n",
    "print()\n",
    "print(clf.best_params_)\n",
    "print()\n",
    "print(\"Grid scores on training set:\")\n",
    "print()\n",
    "means = clf.cv_results_['mean_test_score']\n",
    "stds = clf.cv_results_['std_test_score']\n",
    "for mean, std, params in zip(means, stds, clf.cv_results_['params']):\n",
    "    print(\"%0.3f (+/-%0.03f) for %r\"\n",
    "          % (mean, std * 2, params))\n",
    "print()"
   ]
  },
  {
   "cell_type": "code",
   "execution_count": null,
   "metadata": {},
   "outputs": [],
   "source": []
  },
  {
   "cell_type": "code",
   "execution_count": null,
   "metadata": {},
   "outputs": [],
   "source": []
  },
  {
   "cell_type": "code",
   "execution_count": null,
   "metadata": {},
   "outputs": [],
   "source": [
    "from sklearn import svm\n",
    "model = svm.SVR()\n",
    "model.fit(X_train_final, y_train)\n"
   ]
  },
  {
   "cell_type": "code",
   "execution_count": null,
   "metadata": {},
   "outputs": [],
   "source": [
    "model.score(X_train_final, y_train)"
   ]
  },
  {
   "cell_type": "code",
   "execution_count": null,
   "metadata": {},
   "outputs": [],
   "source": [
    "from mlxtend.plotting import plot_decision_regions\n",
    "plot_decision_regions(X=np.array(X_train_final), \n",
    "                      y=np.array(y_train),\n",
    "                      clf=model, \n",
    "                      legend=2)\n",
    "\n",
    "# Update plot object with X/Y axis labels and Figure Title\n",
    "plt.xlabel(X.columns[0], size=14)\n",
    "plt.ylabel(X.columns[1], size=14)\n",
    "plt.title('SVM Decision Region Boundary', size=16)"
   ]
  },
  {
   "cell_type": "code",
   "execution_count": null,
   "metadata": {},
   "outputs": [],
   "source": [
    "from sklearn import linear_model\n",
    "from sklearn.metrics import mean_squared_error, r2_score\n",
    "\n",
    "regr = linear_model.LinearRegression()\n",
    "\n",
    "regr.fit(X_train_final, y_train)\n",
    "\n",
    "# Make predictions using the testing set\n",
    "y_pred = regr.predict(X_test)\n",
    "\n",
    "# The coefficients\n",
    "print('Coefficients: \\n', regr.coef_)\n",
    "# The mean squared error\n",
    "print(\"Mean squared error: %.2f\"\n",
    "      % mean_squared_error(y_test, y_pred))\n",
    "# Explained variance score: 1 is perfect prediction\n",
    "print('Variance score: %.2f' % r2_score(y_test, y_pred))\n"
   ]
  },
  {
   "cell_type": "code",
   "execution_count": null,
   "metadata": {},
   "outputs": [],
   "source": []
  },
  {
   "cell_type": "code",
   "execution_count": null,
   "metadata": {},
   "outputs": [],
   "source": []
  },
  {
   "cell_type": "code",
   "execution_count": null,
   "metadata": {},
   "outputs": [],
   "source": [
    "import numpy as np\n",
    "def rmsle(real, predicted):\n",
    "    sum=0.0\n",
    "    for x in range(len(predicted)):\n",
    "        if predicted[x]<0 or real[x]<0: #check for negative values\n",
    "            continue\n",
    "        p = np.log(predicted[x]+1)\n",
    "        r = np.log(real[x]+1)\n",
    "        sum = sum + (p - r)**2\n",
    "    return (sum/len(predicted))**0.5\n",
    "\n",
    "\n",
    "print(rmsle(y_test,y_pred))"
   ]
  },
  {
   "cell_type": "code",
   "execution_count": null,
   "metadata": {},
   "outputs": [],
   "source": [
    "'''\n",
    "from sklearn.preprocessing import StandardScaler\n",
    "\n",
    "sc = StandardScaler()\n",
    "X_train_final = sc.fit_transform(X_train)\n",
    "X_test_final = sc.transform(X_test)\n",
    "\n",
    "sample_weight = np.random.RandomState(42).rand(y_train.shape[0])\n",
    "\n",
    "print(\"Training......\")\n",
    "from sklearn.ensemble import RandomForestClassifier\n",
    "\n",
    "classifier = RandomForestClassifier(n_estimators=322, random_state=0, bootstrap=True, max_depth=32,\n",
    "max_features='sqrt',\n",
    "min_samples_leaf=1,\n",
    "min_samples_split=2,\n",
    "n_jobs=-1)\n",
    "# classifier.fit(X_train_final, y_train)\n",
    "clf_isotonic = CalibratedClassifierCV(classifier, method='isotonic')\n",
    "clf_isotonic.fit(X_train_final, y_train, sample_weight)\n",
    "\n",
    "print(\"Predicting....\")\n",
    "# y_prob = classifier.predict_proba(X_test_final)\n",
    "y_prob = clf_isotonic.predict_proba(X_test_final)\n",
    "\n",
    "print(\"Converting to CSV....\")\n",
    "innovation_challenge_key = dataset_scoring.innovation_challenge_key\n",
    "innovation_challenge_key = list(innovation_challenge_key)\n",
    "final_prob = list(y_prob[:, 1])\n",
    "final_list = list(zip(innovation_challenge_key, final_prob))\n",
    "new_cols = ['INNOVATION_CHALLENGE_KEY', 'RENEWAL_PROBABLIITY']\n",
    "df = pd.DataFrame(final_list, columns=new_cols)\n",
    "df = df.sort_values('INNOVATION_CHALLENGE_KEY')\n",
    "df.to_csv('submission_120418_322_retuned_calib_only_major_training.csv', columns=new_cols, index=False)\n",
    "'''"
   ]
  }
 ],
 "metadata": {
  "kernelspec": {
   "display_name": "Python 2",
   "language": "python",
   "name": "python2"
  },
  "language_info": {
   "codemirror_mode": {
    "name": "ipython",
    "version": 2
   },
   "file_extension": ".py",
   "mimetype": "text/x-python",
   "name": "python",
   "nbconvert_exporter": "python",
   "pygments_lexer": "ipython2",
   "version": "2.7.14"
  }
 },
 "nbformat": 4,
 "nbformat_minor": 2
}
